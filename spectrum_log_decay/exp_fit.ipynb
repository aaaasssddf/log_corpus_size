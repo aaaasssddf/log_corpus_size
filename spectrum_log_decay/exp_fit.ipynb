{
 "cells": [
  {
   "cell_type": "code",
   "execution_count": 103,
   "metadata": {},
   "outputs": [
    {
     "name": "stdout",
     "output_type": "stream",
     "text": [
      "Found and verified text8.zip\n"
     ]
    }
   ],
   "source": [
    "from __future__ import absolute_import\n",
    "from __future__ import division\n",
    "from __future__ import print_function\n",
    "\n",
    "import collections\n",
    "import math\n",
    "import os\n",
    "import random\n",
    "import zipfile\n",
    "import cPickle as pickle\n",
    "import numpy as np\n",
    "from six.moves import urllib\n",
    "from six.moves import xrange  # pylint: disable=redefined-builtin\n",
    "import bisect\n",
    "import matplotlib\n",
    "matplotlib.use('Agg')\n",
    "import tensorflow as tf\n",
    "import matplotlib.pyplot as plt\n",
    "import argparse\n",
    "import subprocess as sp\n",
    "\n",
    "# Step 1: Download the data.\n",
    "url = 'http://mattmahoney.net/dc/'\n",
    "\n",
    "# start = 640000\n",
    "\n",
    "def load_test_file(test_set_file):\n",
    "  rows = []\n",
    "  with open(test_set_file, 'r') as f:\n",
    "    for idx, line in enumerate(f):\n",
    "      row = line.strip().replace(';', ',').split(',')\n",
    "      rows.append(row)\n",
    "    return rows\n",
    "\n",
    "def test(rows, dictionary, embeddings_U):\n",
    "  score1, score2 = [], []\n",
    "  for idx, row in enumerate(rows):\n",
    "    if row[0] in dictionary and row[1] in dictionary:\n",
    "      score1.append(float(row[2]))\n",
    "      word1 = dictionary[row[0]]\n",
    "      word2 = dictionary[row[1]]\n",
    "      score2.append(embeddings_U[word1,:].dot(embeddings_U[word2,:].T) / (np.linalg.norm(embeddings_U[word1,:], 2) * np.linalg.norm(embeddings_U[word2,:], 2)))\n",
    "  return score1, score2\n",
    "\n",
    "def maybe_download(filename, expected_bytes):\n",
    "  \"\"\"Download a file if not present, and make sure it's the right size.\"\"\"\n",
    "  if not os.path.exists(filename):\n",
    "    filename, _ = urllib.request.urlretrieve(url + filename, filename)\n",
    "  statinfo = os.stat(filename)\n",
    "  if statinfo.st_size == expected_bytes:\n",
    "    print('Found and verified', filename)\n",
    "  else:\n",
    "    print(statinfo.st_size)\n",
    "    raise Exception(\n",
    "        'Failed to verify ' + filename + '. Can you get to it with a browser?')\n",
    "  return filename\n",
    "\n",
    "filename = maybe_download('text8.zip', 31344016)\n",
    "\n",
    "\n",
    "# Read the data into a list of strings.\n",
    "def read_data(filename):\n",
    "  \"\"\"Extract the first file enclosed in a zip file as a list of words.\"\"\"\n",
    "  with zipfile.ZipFile(filename) as f:\n",
    "    data = tf.compat.as_str(f.read(f.namelist()[0])).split()\n",
    "  return data\n",
    "\n",
    "def build_dataset(words, n_words, with_UNK = True, shuffle = False, count = None):\n",
    "  \"\"\"Process raw inputs into a dataset.\"\"\"\n",
    "  if count is None:\n",
    "    if with_UNK:\n",
    "      count = [['UNK', -1]]\n",
    "      count.extend(collections.Counter(words).most_common(n_words - 1))\n",
    "    else:\n",
    "      count = []\n",
    "      count.extend(collections.Counter(words).most_common(n_words))\n",
    "\n",
    "    if shuffle:\n",
    "      count = np.random.permutation(count)\n",
    "    else:\n",
    "      count = count\n",
    "  dictionary = dict()\n",
    "  for word, _ in count:\n",
    "    dictionary[word] = len(dictionary)\n",
    "  data = list()\n",
    "  unk_count = 0\n",
    "  for word in words:\n",
    "    if word in dictionary:\n",
    "      index = dictionary[word]\n",
    "      data.append(index)\n",
    "    else:\n",
    "      index = dictionary['UNK']\n",
    "      unk_count += 1\n",
    "      if with_UNK:\n",
    "        data.append(index)\n",
    "  if with_UNK:\n",
    "    count[dictionary['UNK']][1] = unk_count\n",
    "  reversed_dictionary = dict(zip(dictionary.values(), dictionary.keys()))\n",
    "  return data, count, dictionary, reversed_dictionary\n",
    "\n",
    "def build_cooccurance_dict(data, count, dictionary, reverse_dictionary, skip_window):\n",
    "  cooccurance_count = collections.defaultdict(collections.Counter)\n",
    "  for idx, center_word in enumerate(data):\n",
    "    center_word_id = center_word\n",
    "    if idx >= skip_window - 1 and  idx < len(data) - skip_window:\n",
    "      for i in range(skip_window):\n",
    "        cooccurance_count[center_word_id][data[idx-i-1]] += 1\n",
    "        cooccurance_count[center_word_id][data[idx+i+1]] += 1\n",
    "    elif idx < skip_window - 1:\n",
    "      for i in range(skip_window):\n",
    "        cooccurance_count[center_word_id][data[idx+i+1]] += 1\n",
    "      for i in range(idx):\n",
    "        cooccurance_count[center_word_id][data[i]] += 1\n",
    "    else:\n",
    "      for i in range(skip_window):\n",
    "        cooccurance_count[center_word_id][data[idx-i-1]] += 1\n",
    "      for i in range(idx+1, len(data)):\n",
    "        cooccurance_count[center_word_id][data[i]] += 1\n",
    "  return cooccurance_count\n",
    "\n",
    "def rSquared(coeffs, x, y):\n",
    "  p = np.poly1d(coeffs)\n",
    "  yhat = p(x)                      # or [p(z) for z in x]\n",
    "  ybar = np.sum(y)/len(y)          # or sum(y)/len(y)\n",
    "  ssreg = np.sum((yhat-ybar)**2)   # or sum([ (yihat - ybar)**2 for yihat in yhat])\n",
    "  sstot = np.sum((y - ybar)**2)    # or sum([ (yi - ybar)**2 for yi in y])\n",
    "  return ssreg / sstot\n",
    "\n",
    "def getExponents(spectrum, x):\n",
    "  m, b = np.polyfit(x, np.log(spectrum), 1)\n",
    "  print(rSquared([m, b], x, np.log(spectrum)))\n",
    "  return m, b\n",
    "\n",
    "def softThreshold(spectrum, sigma):\n",
    "  return (spectrum - 2 * np.sqrt(len(spectrum)) * sigma).clip(min=0)\n",
    "\n",
    "def plotFit(coeffs, x, y, name):\n",
    "  m, b = coeffs\n",
    "  fig = plt.figure()\n",
    "  plt.plot(x, y, '.')\n",
    "  plt.plot(x, np.exp(m*x+b), '-')\n",
    "  plt.xlabel('dimensionality')\n",
    "  plt.ylabel('log of spectrum')\n",
    "  plt.yscale('log')\n",
    "  fig.tight_layout()\n",
    "  plt.savefig('{}.pdf'.format(name))"
   ]
  },
  {
   "cell_type": "code",
   "execution_count": 104,
   "metadata": {},
   "outputs": [
    {
     "name": "stdout",
     "output_type": "stream",
     "text": [
      "Data size 17005207\n",
      "Top 10 most freq word for train data: [['UNK', 1737307], ('the', 1061396), ('of', 593677), ('and', 416629), ('one', 411764), ('in', 372201), ('a', 325873), ('to', 316376), ('zero', 264975), ('nine', 250430)]\n",
      "Most common words (+UNK) [['UNK', 1737307], ('the', 1061396), ('of', 593677), ('and', 416629), ('one', 411764)]\n",
      "Sample data [5239, 3084, 12, 6, 195, 2, 3137, 46, 59, 156] ['anarchism', 'originated', 'as', 'a', 'term', 'of', 'abuse', 'first', 'used', 'against']\n"
     ]
    }
   ],
   "source": [
    "vocabulary = read_data(\"text8.zip\")\n",
    "print('Data size', len(vocabulary))\n",
    "\n",
    "vocabulary_size = 10000\n",
    "size = None\n",
    "\n",
    "start = np.random.randint(0, len(vocabulary)-1)\n",
    "if size is None:\n",
    "  train_set = vocabulary\n",
    "else:\n",
    "  train_set = vocabulary[start: min(len(vocabulary), start + size)]\n",
    "  train_set += vocabulary[0: start + size - min(len(vocabulary), start + size)]\n",
    "\n",
    "\n",
    "data, count, dictionary, reverse_dictionary = build_dataset(train_set,\n",
    "vocabulary_size)\n",
    "vocabulary_size = min(vocabulary_size, len(count))\n",
    "\n",
    "print('Top 10 most freq word for train data: {}'.format(count[:10]))\n",
    "print('Most common words (+UNK)', count[:5])\n",
    "print('Sample data', data[:10], [reverse_dictionary[i] for i in data[:10]])\n",
    "\n",
    "skip_window = 5\n",
    "cooccur = build_cooccurance_dict(data, count, dictionary, reverse_dictionary, skip_window)\n",
    "# Do SVD\n",
    "Nij = np.zeros([vocabulary_size, vocabulary_size])\n",
    "for i in range(vocabulary_size):\n",
    "  for j in range(vocabulary_size):\n",
    "    Nij[i,j] += cooccur[i][j]\n",
    "Ni = np.zeros(vocabulary_size)\n",
    "for item in count:\n",
    "  Ni[dictionary[item[0]]] = item[1]"
   ]
  },
  {
   "cell_type": "markdown",
   "metadata": {},
   "source": [
    "The 4 smaller datasets can be processed in memory  \n",
    "The English Wikipedia is processed separately, and  \n",
    "the counts Nij are extracted and saved in a pickle file."
   ]
  },
  {
   "cell_type": "code",
   "execution_count": 105,
   "metadata": {},
   "outputs": [
    {
     "name": "stdout",
     "output_type": "stream",
     "text": [
      "170052041.0\n",
      "17005207.0\n"
     ]
    }
   ],
   "source": [
    "# if not for the english wikipedia corpus,\n",
    "# comment out the below two lines\n",
    "# with open('Nij_wikipedia.pkl', 'r') as f:\n",
    "#   Nij = pickle.load(f)\n",
    "tot = np.sum(Nij)\n",
    "print(tot)\n",
    "print(np.sum(Ni))\n",
    "Pij = Nij / tot \n",
    "Pi = Ni / np.sum(Ni)"
   ]
  },
  {
   "cell_type": "markdown",
   "metadata": {},
   "source": [
    "Now, check how good the region of interest decays exponentially  \n",
    "We do this by checking all the matrices: PPMI, PMI and log count.  \n",
    "To estimate the spectrum, we use the method proposed by Chaterjee: $\\lambda_i = (\\tilde{\\lambda_i}-2\\sqrt{n}\\sigma)_+$  \n",
    "where $\\tilde{\\lambda_i}$ is the ith empirical eigenvalue.\n",
    "The mysterious 0.35 and 0.138 are the estimated noise standard deviation, c.f.  \n",
    "https://arxiv.org/abs/1803.00502"
   ]
  },
  {
   "cell_type": "code",
   "execution_count": 106,
   "metadata": {},
   "outputs": [],
   "source": [
    "log_count = np.log(Nij + 1)\n",
    "U_lc, D_lc, V_lc = np.linalg.svd(log_count)"
   ]
  },
  {
   "cell_type": "code",
   "execution_count": 107,
   "metadata": {},
   "outputs": [],
   "source": [
    "PMI = np.zeros([vocabulary_size, vocabulary_size])\n",
    "for i in range(vocabulary_size):\n",
    "  for j in range(vocabulary_size):\n",
    "    if Pi[i] * Pi[j] > 0 and Pij[i,j] > 0:\n",
    "      PMI[i,j] = np.log(Pij[i,j] / (Pi[i] * Pi[j]))\n",
    "\n",
    "PPMI = np.maximum(PMI, 0.0)\n",
    "U, D, V = np.linalg.svd(PPMI)"
   ]
  },
  {
   "cell_type": "code",
   "execution_count": 108,
   "metadata": {},
   "outputs": [],
   "source": [
    "U_pmi, D_pmi, V_pmi = np.linalg.svd(PMI)"
   ]
  },
  {
   "cell_type": "code",
   "execution_count": 109,
   "metadata": {},
   "outputs": [
    {
     "name": "stdout",
     "output_type": "stream",
     "text": [
      "rank=2369\n",
      "0.9894326602916788\n"
     ]
    }
   ],
   "source": [
    "D_ = softThreshold(D_pmi, 0.35)\n",
    "rank = 0\n",
    "for idx in range(D_.shape[0]):\n",
    "  if D_[idx] == 0:\n",
    "    rank = idx\n",
    "    break\n",
    "print(\"rank={}\".format(rank))\n",
    "D_ = D_[150:1500]\n",
    "x = np.array(range(150, 1500))\n",
    "coeffs = getExponents(D_, x)\n",
    "plotFit(coeffs, x, D_, 'exp_fit_pmi')"
   ]
  },
  {
   "cell_type": "code",
   "execution_count": 110,
   "metadata": {},
   "outputs": [
    {
     "name": "stdout",
     "output_type": "stream",
     "text": [
      "rank=2253\n",
      "0.9917396798583351\n"
     ]
    }
   ],
   "source": [
    "D_ = softThreshold(D, 0.35)\n",
    "rank = 0\n",
    "for idx in range(D_.shape[0]):\n",
    "  if D_[idx] == 0:\n",
    "    rank = idx\n",
    "    break\n",
    "print(\"rank={}\".format(rank))\n",
    "D_ = D_[150:1500]\n",
    "x = np.array(range(150, 1500))\n",
    "coeffs = getExponents(D_, x)\n",
    "plotFit(coeffs, x, D_, 'exp_fit_ppmi')"
   ]
  },
  {
   "cell_type": "code",
   "execution_count": 113,
   "metadata": {},
   "outputs": [
    {
     "name": "stdout",
     "output_type": "stream",
     "text": [
      "rank=2922\n",
      "0.9916167049819444\n"
     ]
    }
   ],
   "source": [
    "D_ = softThreshold(D_lc, 0.13)\n",
    "rank = 0\n",
    "for idx in range(D_.shape[0]):\n",
    "  if D_[idx] == 0:\n",
    "    rank = idx\n",
    "    break\n",
    "print(\"rank={}\".format(rank))\n",
    "D_ = D_[150:1500]\n",
    "x = np.array(range(150, 1500))\n",
    "coeffs = getExponents(D_, x)\n",
    "plotFit(coeffs, x, D_, 'exp_fit_logcount')"
   ]
  },
  {
   "cell_type": "code",
   "execution_count": 112,
   "metadata": {},
   "outputs": [
    {
     "data": {
      "text/plain": [
       "''"
      ]
     },
     "execution_count": 112,
     "metadata": {},
     "output_type": "execute_result"
    }
   ],
   "source": [
    "import subprocess as sp\n",
    "sp.check_output(\"python ../word2vec/send_note.py\", shell=True)"
   ]
  }
 ],
 "metadata": {
  "kernelspec": {
   "display_name": "Python 2",
   "language": "python",
   "name": "python2"
  },
  "language_info": {
   "codemirror_mode": {
    "name": "ipython",
    "version": 2
   },
   "file_extension": ".py",
   "mimetype": "text/x-python",
   "name": "python",
   "nbconvert_exporter": "python",
   "pygments_lexer": "ipython2",
   "version": "2.7.12"
  }
 },
 "nbformat": 4,
 "nbformat_minor": 2
}
